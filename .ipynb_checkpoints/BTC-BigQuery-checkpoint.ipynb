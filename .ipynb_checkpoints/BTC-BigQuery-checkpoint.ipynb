{
 "cells": [
  {
   "cell_type": "markdown",
   "metadata": {},
   "source": [
    "<h1>Bitcoin in BigQuery Analaysis examples</h1>\n",
    "<h2>Question 1</h2>\n",
    "<h3>How many bitcoins are sent per day?</h3>\n"
   ]
  },
  {
   "cell_type": "code",
   "execution_count": 4,
   "metadata": {
    "collapsed": false
   },
   "outputs": [
    {
     "data": {
      "text/html": [
       "\n",
       "          <script src=\"/static/components/requirejs/require.js\"></script>\n",
       "          <script>\n",
       "            requirejs.config({\n",
       "              paths: {\n",
       "                base: '/static/base',\n",
       "              },\n",
       "            });\n",
       "          </script>\n",
       "          "
      ],
      "text/plain": [
       "<IPython.core.display.HTML object>"
      ]
     },
     "metadata": {},
     "output_type": "display_data"
    }
   ],
   "source": [
    "%%bq query --name data\n",
    "#StandardSQL\n",
    "SELECT o.day, SUM(o.satoshis)*0.00000001 AS btc FROM (\n",
    "SELECT TIMESTAMP_MILLIS((timestamp - MOD(timestamp,86400000))) AS day, outputs.pubkey_base58 AS output_key, satoshis \n",
    "FROM \n",
    "  `bitcoin-bigquery.bitcoin.blocks` \n",
    "    JOIN\n",
    "  UNNEST(transactions) AS transactions\n",
    "    JOIN \n",
    "  UNNEST(transactions.outputs) AS outputs) AS o\n",
    "GROUP BY day\n",
    "ORDER BY day"
   ]
  },
  {
   "cell_type": "markdown",
   "metadata": {},
   "source": [
    "## Visualise with Datalab commands \n",
    "http://googledatalab.github.io/pydatalab/google.datalab%20Commands.html"
   ]
  },
  {
   "cell_type": "code",
   "execution_count": 5,
   "metadata": {
    "collapsed": false
   },
   "outputs": [
    {
     "data": {
      "text/html": [
       "\n",
       "          <script src=\"/static/components/requirejs/require.js\"></script>\n",
       "          <script>\n",
       "            requirejs.config({\n",
       "              paths: {\n",
       "                base: '/static/base',\n",
       "              },\n",
       "            });\n",
       "          </script>\n",
       "          "
      ],
      "text/plain": [
       "<IPython.core.display.HTML object>"
      ]
     },
     "metadata": {},
     "output_type": "display_data"
    },
    {
     "name": "stderr",
     "output_type": "stream",
     "text": [
      "accessDenied: Access Denied: Table bitcoin-bigquery:bitcoin.blocks: The user 587962344783-compute@developer.gserviceaccount.com does not have permission to query table bitcoin-bigquery:bitcoin.blocks.\n"
     ]
    }
   ],
   "source": [
    "%chart line --data data --fields day,btc\n",
    "title: BTC sent per day\n",
    "height: 400\n",
    "width: 900\n",
    "hAxis:\n",
    "  title: Day\n",
    "vAxis:\n",
    "  title: BTC volume"
   ]
  },
  {
   "cell_type": "markdown",
   "metadata": {},
   "source": [
    "<h2>Question 2</h2>\n",
    "<h3>How many bitcoins are sent per day?</h3>"
   ]
  },
  {
   "cell_type": "code",
   "execution_count": null,
   "metadata": {
    "collapsed": true
   },
   "outputs": [],
   "source": []
  },
  {
   "cell_type": "markdown",
   "metadata": {},
   "source": [
    "<h2>Question 3</h2>\n",
    "<h3>How many bitcoins are sent per day?</h3>"
   ]
  },
  {
   "cell_type": "code",
   "execution_count": null,
   "metadata": {
    "collapsed": true
   },
   "outputs": [],
   "source": []
  },
  {
   "cell_type": "markdown",
   "metadata": {},
   "source": [
    "<h2>Question 4</h2>\n",
    "<h3>How many bitcoins are sent per day?</h3>"
   ]
  },
  {
   "cell_type": "code",
   "execution_count": null,
   "metadata": {
    "collapsed": true
   },
   "outputs": [],
   "source": []
  },
  {
   "cell_type": "markdown",
   "metadata": {},
   "source": [
    "<h2>Question 5</h2>\n",
    "<h3>What are the associated addresses of a specific address i.e. both addresses appeared in one transaction as inputs?  </h3>\n",
    "The address used here, 155fzsEBHy9Ri2bMQ8uuuR3tv1YzcDywd4, was randomly selected from the top 100 addresses on the Bitcoin Rich List."
   ]
  },
  {
   "cell_type": "code",
   "execution_count": 1,
   "metadata": {
    "collapsed": false
   },
   "outputs": [
    {
     "data": {
      "text/html": [
       "\n",
       "          <script src=\"/static/components/requirejs/require.js\"></script>\n",
       "          <script>\n",
       "            requirejs.config({\n",
       "              paths: {\n",
       "                base: '/static/base',\n",
       "              },\n",
       "            });\n",
       "          </script>\n",
       "          "
      ],
      "text/plain": [
       "<IPython.core.display.HTML object>"
      ]
     },
     "metadata": {},
     "output_type": "display_data"
    },
    {
     "name": "stderr",
     "output_type": "stream",
     "text": [
      "\n",
      "accessDenied: Access Denied: Table bitcoin-bigquery:bitcoin.blocks: The user 587962344783-compute@developer.gserviceaccount.com does not have permission to query table bitcoin-bigquery:bitcoin.blocks."
     ]
    }
   ],
   "source": [
    "%%bq query\n",
    "#StandardSQL\n",
    "SELECT\n",
    "  DISTINCT inputs.pubkey_base58 AS associated_addresses\n",
    "FROM\n",
    "  `bitcoin-bigquery.bitcoin.blocks`\n",
    "CROSS JOIN\n",
    "  UNNEST (transactions) AS transactions\n",
    "CROSS JOIN\n",
    "  UNNEST (transactions.inputs) AS inputs\n",
    "WHERE\n",
    "  transactions.transaction_id IN (\n",
    "  SELECT\n",
    "    transactions.transaction_id\n",
    "  FROM\n",
    "    `bitcoin-bigquery.bitcoin.blocks`\n",
    "  CROSS JOIN\n",
    "    UNNEST (transactions) AS transactions\n",
    "  CROSS JOIN\n",
    "    UNNEST (transactions.inputs) AS inputs\n",
    "  WHERE\n",
    "    inputs.pubkey_base58 = '155fzsEBHy9Ri2bMQ8uuuR3tv1YzcDywd4')\n"
   ]
  }
 ],
 "metadata": {
  "kernelspec": {
   "display_name": "Python 2",
   "language": "python",
   "name": "python2"
  },
  "language_info": {
   "codemirror_mode": {
    "name": "ipython",
    "version": 2
   },
   "file_extension": ".py",
   "mimetype": "text/x-python",
   "name": "python",
   "nbconvert_exporter": "python",
   "pygments_lexer": "ipython2",
   "version": "2.7.12"
  }
 },
 "nbformat": 4,
 "nbformat_minor": 2
}
